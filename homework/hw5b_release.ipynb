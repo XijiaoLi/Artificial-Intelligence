{
  "nbformat": 4,
  "nbformat_minor": 0,
  "metadata": {
    "colab": {
      "name": "Copy of Xijiao Li - hw5b_release.ipynb",
      "provenance": [],
      "collapsed_sections": [],
      "toc_visible": true
    },
    "kernelspec": {
      "display_name": "Python 3",
      "name": "python3"
    }
  },
  "cells": [
    {
      "cell_type": "markdown",
      "metadata": {
        "id": "FjXceRyIqAff"
      },
      "source": [
        "In this assignment you will use the [pgmpy](http://pgmpy.org/) library to study Bayesian networks and perform inference on them. The library provides the infrastructure to create or import many well-known networks in the [bnlearn](https://www.bnlearn.com/bnrepository/) repository. Specifically, we will be looking at the birth asphyxia [model](https://www.bnlearn.com/bnrepository/discrete-medium.html#child), which describes the relationships between birth asphyxia, complications, symptoms, and diagnoses. \n",
        "\n",
        "First, run the following cell to locally install pgmpy and import any necessary functionalities."
      ]
    },
    {
      "cell_type": "code",
      "metadata": {
        "id": "GTzjPNiVkt0X",
        "colab": {
          "base_uri": "https://localhost:8080/"
        },
        "outputId": "31e1a156-c280-4e37-cf6e-9824d752dddc"
      },
      "source": [
        "!pip install pgmpy\n",
        "from pgmpy.utils import get_example_model\n",
        "child_model = get_example_model('child')\n",
        "NODES = ['BirthAsphyxia', 'Disease', 'Sick', 'DuctFlow', 'CardiacMixing', \n",
        "         'LungParench', 'LungFlow', 'LVH', 'Age', 'Grunting', 'HypDistrib',\n",
        "         'HypoxiaInO2', 'CO2', 'ChestXray', 'LVHreport', 'GruntingReport',\n",
        "         'LowerBodyO2', 'RUQO2', 'CO2Report', 'XrayReport']"
      ],
      "execution_count": null,
      "outputs": [
        {
          "output_type": "stream",
          "text": [
            "Collecting pgmpy\n",
            "\u001b[?25l  Downloading https://files.pythonhosted.org/packages/22/16/e2edff21fca7a2cacaedd293caaaae5eaea832af0dd347c1159b4455be6b/pgmpy-0.1.12-py3-none-any.whl (322kB)\n",
            "\r\u001b[K     |█                               | 10kB 18.3MB/s eta 0:00:01\r\u001b[K     |██                              | 20kB 22.6MB/s eta 0:00:01\r\u001b[K     |███                             | 30kB 17.6MB/s eta 0:00:01\r\u001b[K     |████                            | 40kB 11.8MB/s eta 0:00:01\r\u001b[K     |█████                           | 51kB 8.1MB/s eta 0:00:01\r\u001b[K     |██████                          | 61kB 8.1MB/s eta 0:00:01\r\u001b[K     |███████                         | 71kB 7.7MB/s eta 0:00:01\r\u001b[K     |████████▏                       | 81kB 8.3MB/s eta 0:00:01\r\u001b[K     |█████████▏                      | 92kB 8.3MB/s eta 0:00:01\r\u001b[K     |██████████▏                     | 102kB 8.8MB/s eta 0:00:01\r\u001b[K     |███████████▏                    | 112kB 8.8MB/s eta 0:00:01\r\u001b[K     |████████████▏                   | 122kB 8.8MB/s eta 0:00:01\r\u001b[K     |█████████████▏                  | 133kB 8.8MB/s eta 0:00:01\r\u001b[K     |██████████████▏                 | 143kB 8.8MB/s eta 0:00:01\r\u001b[K     |███████████████▏                | 153kB 8.8MB/s eta 0:00:01\r\u001b[K     |████████████████▎               | 163kB 8.8MB/s eta 0:00:01\r\u001b[K     |█████████████████▎              | 174kB 8.8MB/s eta 0:00:01\r\u001b[K     |██████████████████▎             | 184kB 8.8MB/s eta 0:00:01\r\u001b[K     |███████████████████▎            | 194kB 8.8MB/s eta 0:00:01\r\u001b[K     |████████████████████▎           | 204kB 8.8MB/s eta 0:00:01\r\u001b[K     |█████████████████████▎          | 215kB 8.8MB/s eta 0:00:01\r\u001b[K     |██████████████████████▎         | 225kB 8.8MB/s eta 0:00:01\r\u001b[K     |███████████████████████▍        | 235kB 8.8MB/s eta 0:00:01\r\u001b[K     |████████████████████████▍       | 245kB 8.8MB/s eta 0:00:01\r\u001b[K     |█████████████████████████▍      | 256kB 8.8MB/s eta 0:00:01\r\u001b[K     |██████████████████████████▍     | 266kB 8.8MB/s eta 0:00:01\r\u001b[K     |███████████████████████████▍    | 276kB 8.8MB/s eta 0:00:01\r\u001b[K     |████████████████████████████▍   | 286kB 8.8MB/s eta 0:00:01\r\u001b[K     |█████████████████████████████▍  | 296kB 8.8MB/s eta 0:00:01\r\u001b[K     |██████████████████████████████▍ | 307kB 8.8MB/s eta 0:00:01\r\u001b[K     |███████████████████████████████▌| 317kB 8.8MB/s eta 0:00:01\r\u001b[K     |████████████████████████████████| 327kB 8.8MB/s \n",
            "\u001b[?25hRequirement already satisfied: pandas in /usr/local/lib/python3.6/dist-packages (from pgmpy) (1.1.5)\n",
            "Requirement already satisfied: pyparsing in /usr/local/lib/python3.6/dist-packages (from pgmpy) (2.4.7)\n",
            "Requirement already satisfied: torch in /usr/local/lib/python3.6/dist-packages (from pgmpy) (1.7.0+cu101)\n",
            "Requirement already satisfied: scikit-learn in /usr/local/lib/python3.6/dist-packages (from pgmpy) (0.22.2.post1)\n",
            "Requirement already satisfied: numpy in /usr/local/lib/python3.6/dist-packages (from pgmpy) (1.19.4)\n",
            "Requirement already satisfied: scipy in /usr/local/lib/python3.6/dist-packages (from pgmpy) (1.4.1)\n",
            "Requirement already satisfied: networkx in /usr/local/lib/python3.6/dist-packages (from pgmpy) (2.5)\n",
            "Requirement already satisfied: joblib in /usr/local/lib/python3.6/dist-packages (from pgmpy) (1.0.0)\n",
            "Requirement already satisfied: statsmodels in /usr/local/lib/python3.6/dist-packages (from pgmpy) (0.10.2)\n",
            "Requirement already satisfied: tqdm in /usr/local/lib/python3.6/dist-packages (from pgmpy) (4.41.1)\n",
            "Requirement already satisfied: python-dateutil>=2.7.3 in /usr/local/lib/python3.6/dist-packages (from pandas->pgmpy) (2.8.1)\n",
            "Requirement already satisfied: pytz>=2017.2 in /usr/local/lib/python3.6/dist-packages (from pandas->pgmpy) (2018.9)\n",
            "Requirement already satisfied: dataclasses in /usr/local/lib/python3.6/dist-packages (from torch->pgmpy) (0.8)\n",
            "Requirement already satisfied: typing-extensions in /usr/local/lib/python3.6/dist-packages (from torch->pgmpy) (3.7.4.3)\n",
            "Requirement already satisfied: future in /usr/local/lib/python3.6/dist-packages (from torch->pgmpy) (0.16.0)\n",
            "Requirement already satisfied: decorator>=4.3.0 in /usr/local/lib/python3.6/dist-packages (from networkx->pgmpy) (4.4.2)\n",
            "Requirement already satisfied: patsy>=0.4.0 in /usr/local/lib/python3.6/dist-packages (from statsmodels->pgmpy) (0.5.1)\n",
            "Requirement already satisfied: six>=1.5 in /usr/local/lib/python3.6/dist-packages (from python-dateutil>=2.7.3->pandas->pgmpy) (1.15.0)\n",
            "Installing collected packages: pgmpy\n",
            "Successfully installed pgmpy-0.1.12\n"
          ],
          "name": "stdout"
        }
      ]
    },
    {
      "cell_type": "markdown",
      "metadata": {
        "id": "J3ZeHCT6Hpgz"
      },
      "source": [
        "![child.png](data:image/png;base64,iVBORw0KGgoAAAANSUhEUgAAAeAAAAHgCAMAAABKCk6nAAAABlBMVEUAAAD///+l2Z/dAAAflUlEQVR4nO1dh5bkKAzE///T+3bagSBAoWQDtu52ptugUiiyPd1h+2RpCU878ImvfAQvLh/Bi8tH8OLyEby4fAQvLksQHHZ52o8RZeqk5MR+RJcyazJaTH4sRzJnHhj8fRT/ZLosCLrn15G36QgWM/Z6iqcKX8XWyymeKXgtU69meKLYDa5OFCVa5gnd5Ol7O/EsgVsZei3Dk8QN4OelFM8RNcTLdzI8RdAgJ1/J8Awxw3ycIVi0TBAz0MUJokXL+CEjB9YXDtLjRwz1cPxw0TJ8xGAHh48XLcMHjCZ4+IDBMny86fM4x/twFeQRdN4PHzBYRo83pK8iVsPxSsbg6AGjZfR4C4L//vvfl/f7vD+Cf537+LlF17aQ3hF+2xg9ergUweHowWG/crwI19uD253RQCG+QgYPN+pv5xy8E3byeo7SMd/7/+FsGBfOje4PIIOHmxMTcoJDPi5H3ffq2eEjeFDpE3xWCiXBO/cEzntk8HB5BIeL2mtKvlgmcN4jg4ebLH/jOTikk2+8ir7m5msVHc/l90bwtIwersS/UH2jRVxARg8XTvC3Dx5LtAR/HXiX0eOFd7jRA0bL8PF+BNtk+HjBDg4fL1qGDxg7Rr9tiTUBwVgPxw8XLRNEDHRxgmjRMkHIuGH1fQP0FATjeJkhWLRMETOG4Tf230kIhrj5Tn5nIdju50v5nYZgq6Nv5Xcegk0UvfiTdiYKXM3Si+mdimAlU6+mdzKCFWy9nN7pCBYy9np6JyR449P20bvNSfCWPSepqfAamTgLFRI/bhOZPRWhkKc9GkyWyccygYBlmbwsEwhYlsnLMoGAZZm8LBMIWJbJyzKBgGWZvCwTCFiWycsygYBlmbwsEwhYlsnLMoGAZZm8LBMIWJbJyzKBgGWZvCwTCFiWycsygYBlmbwsEwhYlsnLMoGAZZm8LBMIWJbJyzKBgGWZvCwTCFiWycsygYBlmbwsEwhYlsnLMoGAZZm8LBMIWJbJyzKBgGWZvCwTCFiWycsygYBlmbwsEwhYlsnLMoGAZZm8LBMIWJbJyzKBgGWZvCwTCFiWycsygYBlmbwsEwhYlsnLMoGAZZm8LBMIWBbJy/Gdhp/kskpWvg/nqMgqafkIrsgyaVkmELB8eVlcPoIXl4/gxeUjeHH5CF5cPoIXl4/gxeUjeHH5CF5cPoIXl4/gxeUjeHH5CF5c5if4+8aGpkyekYLSj+NMpk4HTeZHcSwzJ6PG5MdwJNPmojkWfwP1KbMmosvgrIGhZdI89Hvo14d/MmkaGG5PGhla5kwDy+s5Q0PLlFlgOj1lbGiZMQlsn2cMDi0T5oC/fPoWWnMS7FJ1VZkvBSKP5wsPLfNlQObxfPGBZboECOfV6eJDy3QJEDo8XXxomS0BYn9nCxAts8X/ESyU2eL/CBbKbPHLCZ4tQrDMFv7u7/GA3XdXqSeThR+i398tB45MFn5M8P8fYX86Z/8R/8xVXiqThV8Q/OvKYf8R/wyZyktlsvBJgqMBO2zZhekiRMtk4dND9P5HDb+FV3QhUXmpTBZ+SfB2zrdRPw6EyktlsvDzVfQ3B/dksvBP1sIx+x7Dcjg2x9GFROWlMlv4cn9nixAsU4Wv+fvQt/8VyzTR7+tizc2GV//d8BSRWzY90eE10qVpZPyoU2qkNKW6LyR57IgJSoyP7LyO5IGjrVBhf+juVSQPGmmDA5HHdZS3kDxglM3cC3lp1n4Fx4OF2PsoJOFOKfRIXJ/jgeLrf85ViO8tsBC3PoeLD9aDxMb5EDP56fK1B+5b52LOJiMExstvVIfpdKTQ11iV4+ej4iU2rcVTkVpZkuOHQ2LmVHPcUR5x4PyZSB6Nh5tNop7mc7J41hbj+Llg2InUfCJlIL9tlm9xHY6fioSdwkrF9n7491CHzewiHD8ShiB7NX5Dvex8CE/R89OaK3B8fwySvHUpLCt0n8aS2Z+e47sDQNCb7nAbd3yrzUNy2jk5x7d6L8xsvShHrX2if+NeEt+RuTm+z3VcUgW3ietjgPSu1Kwc3+U38Daf6DkA2I3HWTm+xWl5LuWFiucDxIzNyPENHkPplXdVRWNpakzGsbu7lscgyXLh9U6ICr7motjZWcUo2CkXF/RiVFE8D8eunsLp1fXT/v3+jlWQziPi6KdmgtNXaE61Vru00hQcezmp+jOxfhVVESNKHVkzUOzkos/aRd9LGdhKikfn2MU/p6WppZNy4HW5GJxiB++81iy2PurH8NjdGO+ail87LmQhpWZqXIrRjrltOdQbZHYFvi+04pgcg73yOxiyD8FM1/QZGZJiqE9eozOnmnkSv6pZKB6OY6RDjue6mP7J9c9C02gU49zxPLZHdU+2izaKR+IY5ovf6IzYRAmApDXx2lABeeJ71w03/ArctFI8CMcYN57n12ONvATFECd8b7dh+6bIV1t2hqAY4ILj5khQlT+78k2bJ9MBKLY74P3QC3zslfk7O8Vm877Ds8fQi35KrKv+KMVG4+5Pu3iMvFKfrQw9SrG1dXpbdJlaxV5PTLFtJ6BQceLXe3U8LcUWsyPx6zUwmFRS/Wcotpy5yjWkyxunuvLqfypTUmy4NSbX8Fy+ildOwvp/OhNSrDaIf6i91HCrrFL4U5qOYq250fjVDChijQ1xn+hmipXG5PzKTXgbUMY+GcU3BenNb9jID8aC2rjUZqJYSbCwun/3UqVM/wilUi82fRPFuolIWP2G4VOXsPuWmBTELRTfkJY7+L1pKIo1J6H4jsFTbsLnT6bAhuag2H91OzS/TzPs/3ie//JWITNsFH+641M83PGDVkkvthtqo1M82PmhWskixnviCA/8YnY9sZiDXzPDQ3dixyWT8kMRNEpWsd7NR7jgFLjfie9E/G6qg85YfVyK3dZMyu3RUwSbH8nBeIFAyTCdams/tEajZRfOF691ISB+AEAySJ/K6ptUD1GM+HK7MTuxD8Hq+3APPl6KOHgE+IGmWILGqxv0bfnpP/MwC8Z/aBZMBJNflNBZKIVEBNY5cMghQAPcqiNAqxfKY5Ssiwtj+YvDhzpEKOrqGakoQxZMFAYHOFTGr0K1jVUpqmS87RG7Zl41NpK+ps3X8qPho98H1Cx3NHvAxDpRmpAdpn3NYTlUjMSVtxWne2kRCJc7OcfMgbgTS95Xm5WrJZ0L3NC0BPfs56UdO3wuRKwJpyuME6E2tlVq1wrSnAoTLq3W5be3wOjjszwRd0qnllOvnQy8HMwGw3FDoco5oiOYnlOqqihXVPMqU8ljOGdPJZXrV0pkCRdXyitWZtmaJr8PdYqVi2McFTJcfm5ri882wSwDqrm62uIsFjboQizX7a25tbi6srKyqtiLYP7KT2CgB23e2urK1LhC0HbbFheIquT26yrqlUC3PuLMS1zAgzWPW02cDhhj3cI0zzOnXcu3IOpXpdCiy3xYegLF4PTAbia4PM3kofdUQAfM+qWoGFa1ZhMX4Ahm8lsUYuKE3UAATCE8WB1qfUMs1xG6oiRYufnoXVALdQPBA1Z9DC65vBd2QXmmuRqh8Y4rgHGeC+10A1eLqlivPUowJk4gv5ApxBFWsyDv2WL5kvDbOTLg1mSaAz/lkd+OHgtWsyDHE8yuqs4eZBi4FxsEq1iQz0iwxN4o2JC4Nev85wg2jH/UOE+dFwdqOI+emul0iB2xujvpPhVCs9owHsGy59sbCCbHn8TNQNSNK5aLEG6YIfrdXQOfBDdEwESrsILFhRUT/HNmdyn2zIvgNJVNgksr7T5GoZxR/hrL36cm7S1kv/L35uzBe9FV2PDwwt6S+kc2T4vbZemwp4XdjgB+qEQiM7jr5+VZM4UNxGadELt/prDVlw9vrlDDFRIdZhRwKMHOyhen28H1wcT1K6KmiX15eEKfla4LZ5ULXQUbt5DBCE7DiLpKXpckOE8MHWYZcOZCyGM94j+ZTcmm/MqwUyb2thgCaTEkOjrYa7h9nOBAvondjMaqcthOCT4uNcNsEBziEWNvM4EkeDMTnFsM52hjIjhO1B43l+Cji8TrGi+CL3NbTHAl0FrLp8OsgcRJOvvDdiUvIjgAevBZGhKXY3sPEByltKZSqvOrZLRdS56icpXg0A2zkra43/5pJASHY6YIp0cn2UKCY0JLw7E9EcFpOznmpeRJ+ScITmucc+2e2DxSmuAzPUV1MswoW9GrsP86OvK1ig7JWi8csGdTolfRVyg7QKyeuJhZjCxQBDNhD6/o1pfn4symN8GRpWiX0iQ4oiZi9KhEhdmOWCUUYgtbbBcDWyf4ytNNBHdrG6ghqbbBlT2tjh0aZS0bANgqwRINUXlRgU+wnps4WxCG6Vmuiq14jJbTJhmwMxFs6Hyh8hohTtigQecdBIfqG7s4YYNgKc3bCW5qJEthbaBptqAMBx9sECyp2EGDE9zWgLTk0HhnFNmK8W5YWm9cgpWBCicFCzQIG+WxgmDNsi0tNxGsibRQwg3SRDCYRToGtaLWRLMTLNMAjFWERaeRtHIJAIsZujhoDgS3VABjlWKdYYEGMKxY+rJxemB9O1CCheM5D6J+VQotusyHBTXJukoD7G6CNR6w6gMY1nQQDqxm6cvH6YC5ECxLlSxSTSvmAbfyZ8BuHHdicP4KxQX8KpJ5y9yW21GaaGgvDbXYsGbTqWuYXYAEm9ty78xGT0MvfzronhYbU3UTgmkA2HSswytjPtHw0Ff63WgVrxYYtDADV86kLHQdwdLlFCcEnrtSHpj0iqF5tTm1mIGzLvEUWcXCDRFjkGxXUNTkVY5vFTs4wW5fXaDuBaYeszj3yzZcyfolN73yQRTXL6smBIVZ1eZbrhq7OHtIjrNeryxlNCucGha/wlFNqskEzlUQUEll/gJOV5osS/hu5iEp0tVVZmPWqwUS47yoW+kVY4UcRpFxC8FHIqQ7+lhEqpQToRC2Hy1YCpmh2jYIiFyurCM4cCrZzct1uSuPRpLKm3/9KnyxNWkFxrwE0xM6T7O57mFgrk5wPp9IDDaRRKpKvO55GceQfuGgVdRitNeivOuPdOFa2+updSvwILV+T0GweA+std/SUxGsOvTVDhVcfF8MFcEWgyBd5uCSlunGb1pL+9yVSsuA8TjByjzVt7AmS4L5dgGCuZGZnEbnqdbfeOtriS3dblijZMF4BcHsw2uZLY3rH8FWJcuxhJRghe8TEMzcR7AdAPcD1f2hJmpjtJD7/j6CVUf33ELhbUixtY9gowcalbNQfBtEYU3s/PgECzYSdg80Gnup/BkrlTmYFS8Q/mzWULh3EmYcJqtutooLGM7IwDxApBOMaKdodkFVX3ezVbqzvqyBzDiBzEdwp0Np76Wr18ofwQYXZNWPJ2rQBxAdPNiaxwVESLDwKIDnAmQvE/Vcz42Xplxb19vgXQSbu0A+LqPPH/qTPsiQB4iM4Gr3EVgU+dCtSz//iPWgCwd7yNEBBELwjZNw2lNrTxxjPejDrUKwbqvY90ExxDWXy+DNKQONbfCVBEs7QH8vhN26cNC4FgciWDK13Ugwa6P7EcyoK+jAdxHMPsXAbk1ZaEyTIxMsPRMROMGZ5f6Ty28JEuvmCvBaQJAhCO6ucsR/9QXdmb6E4BaqcSPcbDvRuOxBMG6JjBzJOyCQ9ish2GkSzpbLLgdGwD0QcjEGQ2ETjNyXlOrUoUqxopKE9QQprKUEEwuGMgbBxIQvWcRzAA31+KcY6A0cAGVIgit/ua8HtFVDjvfDEtxb5/It9vRre13s4QW+Fq/qKASn3zTXgyxqi6X/6RPiT4pg1WLVkQTXG+isiRKj8Nav/Y0qZB3dOqiS4sMmV9lTQJAP/0F6VO8w/A5MrXilErq5EQPCTjBwH4ulfCDQgoIh2HzS0W0iYnwGwdyFGHB5Nw7BghmYWaOpDb4BuAVGEqB7ZW71URZZekC5BMaj6vIOrPq0Boy4Zksq4I2gwoHAsaHwwH1WUVu+VZ4lmDeZILYWFKqbjMQw6/jUy2H27Xu4C34x7fDDCIfg4OOx4GMl4cPpR3BcBZ/fTTQFOti3n8x08D3BRcIjGG9WdHYAN+8SU2pgFI5ZczDe6tPRu9t3b0FcecKNUWJ3FMyhM0Lu92KQwJ3ltQQPEvYNMkikN3sxSNQvEirhim8VYH4dAeOuo/lrDapw6k8AhriD8YVA6tUm9PMXDIOFA5ShJmCpZckDHbsGMfrgADUphF1lbPIs5WXSP5WvwBN+tB7/qjqpo6SlI0PMm67QlcMgwJMeUlWp/b4/pjbKmDV7YYqzAKq0EeGjb1sKKFYCdQg1pT4qZjcEbZWzJn9eYVRiXbJZYXrMmGwrvbvxjr7SQyRrVIcjVHiSalzL5NzDN8APDoRET5bVN41rRptxMf+OEqOKcABVPSWknb8tNS3DUqi87l3lP7GmLRRW1qxKZevP9mUCXOIICInYOVRe667KaiI7nHIPI1h+9gtSYKkj9SIZUP19DYhaaoi6XuWyosdVC9Rb1Kpqa/GhR1X4Id4l1t4KmpDQqGF1xUEy8VsFNRGs8geVptq6mU8wYvjRcWJZictAmweuyh2LQsveDVQEmywqMepq5kNrMrNSLyTlfDXlyoJ6zV9PKow213Y2JMQNqvbak+OEpFigqEWiVla+BOczvz4H1vmCiSqrLiiVaBrutVwvixdU/cY7psXmWwMS6Ia2ENU0gPNVDXuD8hWbYPu0YCPF3trsqPze4OoGB+d4xT5F0J4oVN+IkXBQalTbvZMWMAgqFB2XvapArBCN2xoclBqVv+Xw9IIDdBfBCAhCHcbvIATj0pQT256LoyH9qlh5lqMLkdrMZp0dNSQ106dBqNvMBBRhO1b8mYnDoZ1tI5YF15xH+7Tnh3FCGufgAGvHGRfWf1dYy1/VvKxZZxJM16z1r7ScT8t/x/eHiEgTR273AInm0DMRtiKYsyDUOsFGBR9iPBTBZ0SF2fRK+CmE3e/9x/H5CWkfL5MTtcrjg77DhRrCAXaWVr0hoX4I2xY5dDj504nHilpqjzRkzaFH8JWecPXAI6TL0csdwo0WweFoKHGwSZ6aBF+t7GzKuf20M+T/Jy4UGsmLU+UM/PL9ciRp9I0efFU+WbnQYvdipRw1yulVO20OPIJLq2f/2eI2QwaXMpUTfOHGwYbSQ+J34kphNvodNz+aYKJbJCGc3Ta2GbWME7/dyCmoLBU1ggmslOCUMx3BUWwRTIhq1Jp/XO3oqVHfO37teBRjh/r5O5wN6wBrmDUSHGcgI3hL4+gSXEBFpG7RBJARTPnXIJhwIROa4D2toYjnHFrraboITuI8QaNgE4JDph5HEbe4pllHgrfiuorgY/RK3Qt7CsgQ6wQThnOJ85kMKcf1JJ7zl4bgq5gimGL2rJ7Mq7TZE7hBcKWHFKycmYhb9nbiHC84BF9QrTk4XjaVWAnBgW4OPYKvQJKkxCFFr5o3B87fGcFxNI1lYPr7+BkvzU7wLLJ9fCiaRLKsZhJ8YZzbx9Rp5iq6gIpW0ae7aRUisqS1b2Rz6BIc7YMjCqKQru1KrR+cuQ8Jt0QMEQP50Fx2UTIEKrksaRKcFAmAW94IoUjUqNOE43fWHPoEW21zoWq1mgQXWVIRnKKQMdTs9YFr3kAI7iO4EdxKk8hguwcnY2vqgIQIcoQufQrUxRZs3RshFI1qIlhjnJcmmSfdIZrhgUgAEIS6EaqGpCcYGJwN6W6Ck86McR0AVUF9jmBYmorVgjvB1TdPQqlR3QhGQZVL2hYawCyOldrqwCYyVHayfN3g4CgIVi0j7BC0LmiMFqI2kwUMTg9UvuI3SuM6UQtRUQURLENtFuOCm4fgQkXteqkI6MMlBHtJoigWKEK3LPx1g9gsoYBYqx3XrAxTAKY+igvOvuBRESw0SyZQ5TqtZd12SVtN1x4uOOu5iY5gqVkcKxUdG8O0cotgJaRGSRFadUKtQVkbFo6VqoaB4ZqqiWCFQ1U/pEiNhZqkKfPNCkaGDpDD5iQ/dI+LxAUpsNSRepEMqPFeRCXXLH913gPqrGzt2/O8UHRZXa9f2TRcJgRLVhvMhJr2GzJ7wCG/UcpvSJLgUEjELrIHZJv3YOtNTkXxsKgpxtEmqMhE6u/3yvurzd1Cd9RkrDdhlfZ67FwwhgTrxpRnhNd2GXszegRuv+818tbagN85kbMrN188sO4FoyV2g+yloQrUJpjTuVT+5HVb7US8HgUMLGfd5lumPxBPekjVkkZV/rjYv8QAIRYIcqC/gOp6YkTEHXjapia2apYaOhUYkfmQC1uziWI77CLgVIjGqKrO3IRk8RoPYwcTbQRMqM9D3WnvI/gBqBvt4Z59+0MDq34ED4JiRzOfTYhwn4a60d5H8BNQN9obhGDmXh8G/DDUjfbAXqu3EFg4JIIH1I32xiC4eqimdgSH4AF1o70hCOaf1uGgH4W6zx52l6R0SvFsBh/bjHBB3cwwhmAEiBEP9syLD4IP1l3mhiAYC4dG8MG6y9wABLdUPoKtGM8T3NT4CB4AwwbYedpB7wkMwQfrJnOPE+x+S/QjGCtigrFwHgg+WPeYw+/shIDu/L6dYDuECbFXe7AQP4KFiP0Hhg2e4CBcsO4x9yzBHn/S4gHhgnWLOYfDVRHBUDQ/CBesW8w5OCyAZFT9CH4awQDJqfkR/DSCAfIj2N2cx/1NNiSr4kfwswAGTF69j+BnAQyYH8E3mHuQYGw1ZwgXrBvMuTxihO2ZH8FP6utB+Z8gYPAEB+GCdYO5xwh2+bQbRwgXrBvMPUcwFM0fwgXL35zPU77Y88eP4OfUK5j0t1Tr7HLQ/CFcsJgGTcouBDM+wUJAsPHTNTAQLlg8gzZlF4qR/HLQ7oBwwWLZMyn7ePsRDBSbNSdnkfx+i6zntOeyOqlMmKy7/wBzbpkvWR+/IpkvW/N5/KhMl67pHH5Y5srXzadAK8hcCbt7E7mATJWw28/5FpCp8vXxK5epEvbRK5cvZYvLR/DiIiIY8yUIMgMoPIxHJm+K8GxoTJvMajWHYJ5WcAz4qZ4chbBsCBaLJrDbr8F5wMLkaldbwTJVX4JRN6iItaHiTnIHXJgTlQfcbyETfdWW8LrQlsyXXmVXins9R4jmqsCubPzCPY4dgS8gi0pppUJj1IcxmUazDme6YbrCqoRsBxqpjmWWdSe4olDLVi6ak+w1dHUFQqPa2pPzqGT+4MJGDdi3RcrBnCiubH2sqIyB0ATfKOPoa4DlnohDvOnTEkDbWqlZDDpz/rQoQz1BKAkRUTaaKx0vdNMCSbkmqFxXYOnVBIA4C57fklFdPBi0tQdmJkdwijw86CxQAQPZIA82+dosPCWUiSYwwyncHd+PA/w7Lo65qrZBt6tqChHLQYKG//IFYEdhoIsIxjXt0g8bwVAWQvUNHh5uw9QLQ+PdnX704WBgd+yzHccf09+k2fxCYiEAaCynPwVtvYWii28o6nWbWACCgVkK5EuggBt3A118CmXQbWH57fJtUD78ek8ChgaKbNvgID0IDtEr+uGcck/VOnImgK+LnXPMDDj3LC6FEnwAJ3ZYYcYehauE2MmxkobcapAvWIcIgbxaVpcTXNMKf/9C7m3y8sjgCXJktGgdpep2RX/Z4YVZhhuKHkHFRqMhzxMLv46f+yeshD0n4S/kq1EnKbyu7SVxOy0bd8TFFiXzl9FwAEeIUaOL6Esgz/LT/f13+i9SzlUP/cwOL0yiPR/G9qyFC7yfNHeCt7MFpv+fP+IURoncsxjIiDNjiUYC8yuNio+SS7caQEZwuMDO32WoVAaKltIMk3Jo5zAaCgITzZvgqMVVCN47dlrv7AlxFikbEUm/Br6FFObotUevzglugOcE71ep1tEn+PKmF2a1PV9ov9zxkuZM8GW8SfDu2MWHjuCws3zBbBfWaeviKg2/IDidgwmCK+4QBKduNsMkZqSrwjkGs5M2FMGXnongCGa7sGKCjytJ9OIeTPS1iOBQ2GGG2SA4ikGMZhbawc4QfV7IiqMZlUNwOPIZEltH6YEYwlW54LdL8AFGtA5KNbJVAjbCLJtNGROxcKklzZPg7Vjbbqf13ZOzDaar6GQpeM0wFzJB8M5cvFKNVQvEk/RwFlcCuLwi/8WZK/yK1mKXHV6YFYJDEtDGRfMlWKbX1yfIkEtVtUZw1GvzZBZZFPhVq8oJsizpR2UWbZA6gvV+VxNLDBRcSI3qKwjeApERVlxqvzmZEBOsUTUQTBTcSTAQs2bBw8bdBPexEEEC8wQZP5sGQu0NGt1CsNUvcJAuBDt14dB4h0U3EGz2K1Tf2OFwUB4M55hYG5bWg2x54FaMTJLrAEpAQm1kYDJsICkmP7pwRrDqGzw83IZpeEASbPGjDwcE85wi8TYEe/G+MvQQBtpcbBKab63gJBzKBpFXwX4WN3dQhwKW5uJKMHYErYBhbNhGByAp4GEKPIqWwxysg9WREDtFGoILTJKi86riiDJE/EkBYQJho41iX2f2jwyb+hblzBNpgQ5OLcCmLIJAbkvEwPWh5W5P7Co6SOjBjrpKVdU4ODSqCL1qG5M3F6mCHtPUiXnK+kVNW5FBsEmb74m4uciq20D1MzFbU2eir2Urt2y1LGBuN3saBn3ybzLB0rAN4VynWNWcWzsHuGNV1KBF1aU6AvTGIpvXQHrVZL50R3J53vjCWZJAm6pSV4pPVgcNv5pmDEQT2ubUaTcxTc+VQOjgCyUpCl1fGWtFzbXv7ib4NUNGQ3HB6koGaMa/tC20JBi2Q+YIAJy7hlW5BppYXwMAJGi83tkr7N1l6JNn5CN4cfkIXlw+gheXj+DF5SN4cfkIXlz+AXR5YU6kIkXCAAAAAElFTkSuQmCC)"
      ]
    },
    {
      "cell_type": "markdown",
      "metadata": {
        "id": "fgG6RtLX4W-K"
      },
      "source": [
        "# Problem 1: Independence (20 points)\n",
        "\n",
        "pgmpy contains several functions for testing independences, which are demonstrated in \"Step 4\" of this [notebook](https://github.com/pgmpy/pgmpy/blob/dev/examples/Creating%20a%20Discrete%20Bayesian%20Network.ipynb).\n",
        "Answer the following questions about the independence properties of the birth asphyxia network. You are encouraged, but not required, to use the independence-checking functions of pgmpy to verify your answers. If you choose to do so, please leave all commands and outputs that you use in the code cell below your responses.\n",
        "\n",
        "1. Name all pairs of independent variables given no observed evidence in the Bayes net. If no variables are independent, briefly explain why that is the case.\n",
        "2. List all variable pairs (X, Y) for which \"X is conditionally independent of all other 18 variables in the Bayes net, given Y\". For example, ('BirthAsphyxia', 'Disease') is such a pair.\n",
        "3.  Suppose 'Disease' is observed. List all variables that are *not* guaranteed to be independent of 'Age'. Briefly explain how you know that the remaining variables are guaranteed independent. \n",
        "4.  Suppose 'Disease' is observed. Name a second variable that, if observed, would cause 'Age' to lose at least one guarantee of independence. Briefly explain why they change the independence properties.\n"
      ]
    },
    {
      "cell_type": "markdown",
      "metadata": {
        "id": "6utq7i8c5Dz9"
      },
      "source": [
        "ENTER YOUR RESPONSES HERE\n",
        "\n",
        "1.  No variables are independent. \\\\\n",
        "    Explanation: \\\\\n",
        "    Two nodes are d-connected (dependent) if there is an unblocked path between them. By a path we mean any consecutive sequence of edges, disregarding their directionalities. By \"unblocked path\" we mean a path that does not contain any collidor. Since there is no observed evidence, the only possible collidor is the third case among the three collior scenarios discussed in lecture note (i.e., the child which is connected to two parents). However, in this model, whenever two nodes have a common child (i.e., meet a collidor in a path between them) there is another unblocked path. So no variables are independent.\n",
        "\n",
        "2. (LVHreport, LVH), (GruntingReport, Grunting), (CO2Report, CO2), (XrayReport , ChestXray), (BirthAsphyxia, Disease), (RUQO2, HypoxiaInO2)\n",
        "\n",
        "3.  Sick, Grunting, GruntingReport \\\\\n",
        "    Explanation: \\\\\n",
        "    Since 'Disease' is observed, so it becomes a collidor in some paths. For any nodes whose only unblocked path to 'Age' goes through 'Disease', they are now independent with 'Age'. 'Sick', 'Grunting', 'GruntingReport' are the only three nodes that have another unblocked path to 'Age' ('Age' <- 'Sick' ->'Grunting' -> 'GruntingReport').\n",
        "4.  Grunting, GruntingReport \\\\\n",
        "    Explanation: \\\\\n",
        "    If 'Age' will lose at least one guarantee of independence, it means that some collidor will be removed after the second variable is observed. The only possible case is the last two among the four no-collior scenarios discussed in lecture note. So, if 'Grunting' or 'GruntingReport' is observed, there is a new unblocked path for 'LungParench'.\n",
        "    "
      ]
    },
    {
      "cell_type": "code",
      "metadata": {
        "id": "eEWz2UdAJmEu",
        "colab": {
          "base_uri": "https://localhost:8080/"
        },
        "outputId": "2d2dd336-7fd4-44e0-a62d-32a733d5829c"
      },
      "source": [
        "# ENTER ANY CODE YOU USE TO HELP ANSWER THE ABOVE QUESTIONS HERE\n",
        "print(\"1.\")\n",
        "print(\"total nodes:\", len(NODES))\n",
        "for v in NODES:\n",
        "  atn = child_model.active_trail_nodes(v)[v]\n",
        "  print(v, len(atn))\n",
        "\n",
        "print(\"2.\")\n",
        "for v in NODES:\n",
        "  for w in NODES:\n",
        "    if w == v:\n",
        "      continue\n",
        "    valid = True\n",
        "    for x in NODES:\n",
        "      if x == v or x == w:\n",
        "        continue\n",
        "      if child_model.is_active_trail(v, x, observed=[w]):\n",
        "        valid = False\n",
        "        break\n",
        "    if valid == True:\n",
        "      print(v,w)\n",
        "\n",
        "\n",
        "print(\"3.\")\n",
        "for v in NODES:\n",
        "  if v == \"Disease\" or v == \"Age\":\n",
        "      continue\n",
        "  if child_model.is_active_trail(\"Age\", v, observed=[\"Disease\"]):\n",
        "      print(v)\n",
        "\n",
        "\n",
        "print(\"4.\")\n",
        "for v in NODES:\n",
        "  # print(\"-----\", v)\n",
        "  if v == \"Disease\" or v == \"Age\":\n",
        "      continue\n",
        "  count = 0\n",
        "  for w in NODES:\n",
        "    if w == \"Disease\" or w == \"Age\":\n",
        "      continue\n",
        "    if child_model.is_active_trail(\"Age\", w, observed=[\"Disease\", v]):\n",
        "      # print(\"     \", w)\n",
        "      count += 1\n",
        "  if count > 3:\n",
        "    print(v)"
      ],
      "execution_count": null,
      "outputs": [
        {
          "output_type": "stream",
          "text": [
            "1.\n",
            "total nodes: 20\n",
            "BirthAsphyxia 20\n",
            "Disease 20\n",
            "Sick 20\n",
            "DuctFlow 20\n",
            "CardiacMixing 20\n",
            "LungParench 20\n",
            "LungFlow 20\n",
            "LVH 20\n",
            "Age 20\n",
            "Grunting 20\n",
            "HypDistrib 20\n",
            "HypoxiaInO2 20\n",
            "CO2 20\n",
            "ChestXray 20\n",
            "LVHreport 20\n",
            "GruntingReport 20\n",
            "LowerBodyO2 20\n",
            "RUQO2 20\n",
            "CO2Report 20\n",
            "XrayReport 20\n",
            "2.\n",
            "BirthAsphyxia Disease\n",
            "LVHreport LVH\n",
            "GruntingReport Grunting\n",
            "RUQO2 HypoxiaInO2\n",
            "CO2Report CO2\n",
            "XrayReport ChestXray\n",
            "3.\n",
            "Sick\n",
            "Grunting\n",
            "GruntingReport\n",
            "4.\n",
            "Grunting\n",
            "GruntingReport\n"
          ],
          "name": "stdout"
        }
      ]
    },
    {
      "cell_type": "markdown",
      "metadata": {
        "id": "Sx_Kq1nYaRqz"
      },
      "source": [
        "In addition to its structure, the Bayes net model also specifies the parameters (probabilities). These conditional probability distributions, or CPDs, are stored as tables. Each column corresponds to the CPD of the variable of interest given a combination of its parents' values. \n",
        "\n",
        "For example, take the second table in the output below, the CPD for 'Disease'. The first column is the distribution $\\Pr(Disease \\mid BirthAsphyxia=yes)$ (which sums to 1). The first row is the \"distribution\" $\\Pr(Disease=PFC \\mid BirthAsphyxia)$ (which does not sum to 1).\n",
        "\n",
        "The tables can be accessed as follows (you will be using all these tables in the following problem):"
      ]
    },
    {
      "cell_type": "code",
      "metadata": {
        "id": "bQ302lI3bB7X",
        "colab": {
          "base_uri": "https://localhost:8080/"
        },
        "outputId": "f79e1008-2dcf-4bca-bf94-a66c9eb93c20"
      },
      "source": [
        "print(child_model.get_cpds('BirthAsphyxia'))\n",
        "print(\"\")\n",
        "print(child_model.get_cpds('Disease'))\n",
        "print(\"\")\n",
        "print(child_model.get_cpds('Sick'))\n",
        "print(\"\")\n",
        "print(child_model.get_cpds('LungParench'))\n",
        "print(\"\")\n",
        "print(child_model.get_cpds('Grunting'))\n",
        "print(\"\")\n",
        "print(child_model.get_cpds('GruntingReport'))"
      ],
      "execution_count": null,
      "outputs": [
        {
          "output_type": "stream",
          "text": [
            "+--------------------+-----+\n",
            "| BirthAsphyxia(yes) | 0.1 |\n",
            "+--------------------+-----+\n",
            "| BirthAsphyxia(no)  | 0.9 |\n",
            "+--------------------+-----+\n",
            "\n",
            "+-----------------+--------------------+-------------------+\n",
            "| BirthAsphyxia   | BirthAsphyxia(yes) | BirthAsphyxia(no) |\n",
            "+-----------------+--------------------+-------------------+\n",
            "| Disease(PFC)    | 0.2                | 0.03061224        |\n",
            "+-----------------+--------------------+-------------------+\n",
            "| Disease(TGA)    | 0.3                | 0.33673469        |\n",
            "+-----------------+--------------------+-------------------+\n",
            "| Disease(Fallot) | 0.25               | 0.29591837        |\n",
            "+-----------------+--------------------+-------------------+\n",
            "| Disease(PAIVS)  | 0.15               | 0.23469388        |\n",
            "+-----------------+--------------------+-------------------+\n",
            "| Disease(TAPVD)  | 0.05               | 0.05102041        |\n",
            "+-----------------+--------------------+-------------------+\n",
            "| Disease(Lung)   | 0.05               | 0.05102041        |\n",
            "+-----------------+--------------------+-------------------+\n",
            "\n",
            "+-----------+--------------+--------------+-----------------+----------------+----------------+---------------+\n",
            "| Disease   | Disease(PFC) | Disease(TGA) | Disease(Fallot) | Disease(PAIVS) | Disease(TAPVD) | Disease(Lung) |\n",
            "+-----------+--------------+--------------+-----------------+----------------+----------------+---------------+\n",
            "| Sick(yes) | 0.4          | 0.3          | 0.2             | 0.3            | 0.7            | 0.7           |\n",
            "+-----------+--------------+--------------+-----------------+----------------+----------------+---------------+\n",
            "| Sick(no)  | 0.6          | 0.7          | 0.8             | 0.7            | 0.3            | 0.3           |\n",
            "+-----------+--------------+--------------+-----------------+----------------+----------------+---------------+\n",
            "\n",
            "+------------------------+--------------+--------------+-----------------+----------------+----------------+---------------+\n",
            "| Disease                | Disease(PFC) | Disease(TGA) | Disease(Fallot) | Disease(PAIVS) | Disease(TAPVD) | Disease(Lung) |\n",
            "+------------------------+--------------+--------------+-----------------+----------------+----------------+---------------+\n",
            "| LungParench(Normal)    | 0.6          | 0.8          | 0.8             | 0.8            | 0.1            | 0.03          |\n",
            "+------------------------+--------------+--------------+-----------------+----------------+----------------+---------------+\n",
            "| LungParench(Congested) | 0.1          | 0.05         | 0.05            | 0.05           | 0.6            | 0.25          |\n",
            "+------------------------+--------------+--------------+-----------------+----------------+----------------+---------------+\n",
            "| LungParench(Abnormal)  | 0.3          | 0.15         | 0.15            | 0.15           | 0.3            | 0.72          |\n",
            "+------------------------+--------------+--------------+-----------------+----------------+----------------+---------------+\n",
            "\n",
            "+---------------+---------------------+---------------------+------------------------+------------------------+-----------------------+-----------------------+\n",
            "| LungParench   | LungParench(Normal) | LungParench(Normal) | LungParench(Congested) | LungParench(Congested) | LungParench(Abnormal) | LungParench(Abnormal) |\n",
            "+---------------+---------------------+---------------------+------------------------+------------------------+-----------------------+-----------------------+\n",
            "| Sick          | Sick(yes)           | Sick(no)            | Sick(yes)              | Sick(no)               | Sick(yes)             | Sick(no)              |\n",
            "+---------------+---------------------+---------------------+------------------------+------------------------+-----------------------+-----------------------+\n",
            "| Grunting(yes) | 0.2                 | 0.05                | 0.4                    | 0.2                    | 0.8                   | 0.6                   |\n",
            "+---------------+---------------------+---------------------+------------------------+------------------------+-----------------------+-----------------------+\n",
            "| Grunting(no)  | 0.8                 | 0.95                | 0.6                    | 0.8                    | 0.2                   | 0.4                   |\n",
            "+---------------+---------------------+---------------------+------------------------+------------------------+-----------------------+-----------------------+\n",
            "\n",
            "+---------------------+---------------+--------------+\n",
            "| Grunting            | Grunting(yes) | Grunting(no) |\n",
            "+---------------------+---------------+--------------+\n",
            "| GruntingReport(yes) | 0.8           | 0.1          |\n",
            "+---------------------+---------------+--------------+\n",
            "| GruntingReport(no)  | 0.2           | 0.9          |\n",
            "+---------------------+---------------+--------------+\n"
          ],
          "name": "stdout"
        }
      ]
    },
    {
      "cell_type": "markdown",
      "metadata": {
        "id": "i354pvxqbjdx"
      },
      "source": [
        "# Problem 2: Exact Inference (30 points)\n",
        "\n",
        "For these questions, write the analytical expression for each of the queries in terms of the CPD parameters. You can take advantage of normalization to simplify these expressions. Then plug in the parameters from the model to compute the requested values. (Note that pgmpy does contain functionality for performing inference, as shown in Section 4 of this [notebook](https://github.com/pgmpy/pgmpy_notebook/blob/master/notebooks/2.%20Bayesian%20Networks.ipynb). While you can use this to check your solution, we are looking for the correct analytical expressions used to derive it.)\n",
        "\n",
        "**Note**: Please be precise with RV notation. Upper-case RVs should only refer to the queried distribution, while lower-case RVs should refer to either observed RVs or dummy RVs being summed over.\n",
        "\n",
        "1.   Compute the distribution $\\Pr(Sick \\mid BirthAsphyxia = yes)$. For compactness, you can write $\\Pr(S \\mid ba)$.\n",
        "2.   Compute the distribution $\\Pr(Grunting \\mid Disease = PFC, Sick = yes)$. For compactness, you can write $\\Pr(G \\mid d, s)$.\n",
        "3.   Compute the distribution $\\Pr(GruntingReport \\mid Disease = PFC, Sick = yes)$. For compactness, you can write $\\Pr(GR \\mid d, s)$. Briefly explain why these probabilities are not identical to those of the previous part. (Hint: Can you start from your result from the previous part?)"
      ]
    },
    {
      "cell_type": "markdown",
      "metadata": {
        "id": "_KnyNNqMdNY3"
      },
      "source": [
        "ENTER YOUR SOLUTIONS HERE\n",
        "\n",
        "1.   $\\Pr(S \\mid ba) = \\frac{\\Pr(S,\\ ba)}{\\Pr(ba)} = \\frac{\\sum_d\\Pr(ba)\\Pr(d|ba)\\Pr(S|d)}{\\Pr(ba)} = \\frac{\\Pr(ba)\\sum_d\\Pr(d|ba)\\Pr(S|d)}{\\Pr(ba)}$ \\\\\n",
        "     = (0.2\\*0.4+0.3\\*0.3+0.25\\*0.2+0.15\\*0.3+0.05\\*0.7+0.05\\*0.7, 0.2\\*0.6+0.3\\*0.7+0.25\\*0.8+0.15\\*0.7+0.05\\*0.3+0.05\\*0.3) \\\\\n",
        "     = (0.335, 0.665)\n",
        "\n",
        "2.   $\\Pr(G \\mid d, s)  = \\frac{\\Pr(G,\\ d,\\ s)}{\\Pr(d,\\ s)} = \\frac{\\sum_{lp}\\Pr(d)\\Pr(lp | d)\\Pr(s \\mid d) \\Pr(G \\mid s, lp)}{\\Pr(d)\\Pr(s \\mid d)} = \\frac{\\sum_{lp}\\Pr(lp | d)\\Pr(s \\mid d) \\Pr(G \\mid s, lp)}{\\Pr(s \\mid d)} = \\frac{\\sum_{lp}\\Pr(lp | d)\\Pr(s \\mid d) \\Pr(G \\mid s, lp)}{\\Pr(s \\mid d)} $ \\\\\n",
        "     = (0.4, 0.6)\n",
        "\n",
        "3.   $\\Pr(GR \\mid d, s)  = \\frac{\\Pr(GR,\\ d,\\ s)}{\\Pr(d,\\ s)} = \\frac{\\sum_{lp,g}\\Pr(d)\\Pr(lp | d)\\Pr(s \\mid d) \\Pr(g \\mid s, lp) \\Pr(G \\mid g)}{\\Pr(d)\\Pr(s \\mid d)} = \\frac{\\sum_{lp}\\Pr(lp | d)\\Pr(s \\mid d) \\Pr(g \\mid s, lp) \\Pr(G \\mid g)}{\\Pr(s \\mid d)} = \\frac{\\sum_{lp,g}\\Pr(lp \\mid d)\\Pr(s \\mid d) \\Pr(G \\mid s, lp)}{\\Pr(s \\mid d)} $ \\\\\n",
        "     = (0.38, 0.62)"
      ]
    },
    {
      "cell_type": "code",
      "metadata": {
        "colab": {
          "base_uri": "https://localhost:8080/"
        },
        "id": "u8SX4LOLund0",
        "outputId": "40c16767-e66f-48ed-f6e6-370660e05d9a"
      },
      "source": [
        "from pgmpy.inference import VariableElimination\n",
        "infer = VariableElimination(child_model)\n",
        "print(infer.query(['Sick'], evidence={'BirthAsphyxia': 'yes'}))\n",
        "print(infer.query(['Grunting'], evidence={'Disease': 'PFC', 'Sick': 'yes'}))\n",
        "print(infer.query(['GruntingReport'], evidence={'Disease': 'PFC', 'Sick': 'yes'}))"
      ],
      "execution_count": null,
      "outputs": [
        {
          "output_type": "stream",
          "text": [
            "Finding Elimination Order: : 100%|██████████| 18/18 [00:00<00:00, 2890.96it/s]\n",
            "Eliminating: Disease: 100%|██████████| 18/18 [00:00<00:00, 112.47it/s]\n",
            "Finding Elimination Order: : 100%|██████████| 17/17 [00:00<00:00, 3280.27it/s]\n",
            "Eliminating: RUQO2: 100%|██████████| 17/17 [00:00<00:00, 241.07it/s]\n",
            "Finding Elimination Order: : 100%|██████████| 17/17 [00:00<00:00, 2381.77it/s]\n",
            "Eliminating: Age:   0%|          | 0/17 [00:00<?, ?it/s]        "
          ],
          "name": "stderr"
        },
        {
          "output_type": "stream",
          "text": [
            "+-----------+-------------+\n",
            "| Sick      |   phi(Sick) |\n",
            "+===========+=============+\n",
            "| Sick(yes) |      0.3350 |\n",
            "+-----------+-------------+\n",
            "| Sick(no)  |      0.6650 |\n",
            "+-----------+-------------+\n",
            "+---------------+-----------------+\n",
            "| Grunting      |   phi(Grunting) |\n",
            "+===============+=================+\n",
            "| Grunting(yes) |          0.4000 |\n",
            "+---------------+-----------------+\n",
            "| Grunting(no)  |          0.6000 |\n",
            "+---------------+-----------------+\n"
          ],
          "name": "stdout"
        },
        {
          "output_type": "stream",
          "text": [
            "Eliminating: RUQO2: 100%|██████████| 17/17 [00:00<00:00, 221.50it/s]\n"
          ],
          "name": "stderr"
        },
        {
          "output_type": "stream",
          "text": [
            "+---------------------+-----------------------+\n",
            "| GruntingReport      |   phi(GruntingReport) |\n",
            "+=====================+=======================+\n",
            "| GruntingReport(yes) |                0.3800 |\n",
            "+---------------------+-----------------------+\n",
            "| GruntingReport(no)  |                0.6200 |\n",
            "+---------------------+-----------------------+\n"
          ],
          "name": "stdout"
        }
      ]
    },
    {
      "cell_type": "markdown",
      "metadata": {
        "id": "F4cLW3cNdi0P"
      },
      "source": [
        "# Sampling Algorithms\n",
        "\n",
        "While exact inference will always get us the right values, the amount of computation increases dramatically for larger Bayesian networks. Approximate inference via sampling is an alternative method. The ```prior_sample``` function below generates a sample for a pgmpy Bayes net in the manner of prior sampling. It samples values one node at a time, assuming that nodes are ordered such that no node occurs before its parents. We also define a ```prob_given_parents``` utility function to interface with the underlying pgmpy CPD structures.\n",
        "\n",
        "(pgmpy also contains built-in sampling algorithms, but we will not be using them.)"
      ]
    },
    {
      "cell_type": "code",
      "metadata": {
        "id": "5tOqGcixPuK2"
      },
      "source": [
        "import numpy.random as npr\n",
        "\n",
        "def prior_sample(model, nodes):\n",
        "  \"\"\"\n",
        "  Generates and returns a single sample as a {variable: value} dictionary\n",
        "  \"\"\"\n",
        "  sample = {}\n",
        "  for n in nodes:\n",
        "    cpd = model.get_cpds(n)\n",
        "    values = (cpd.state_names)[n]\n",
        "    probs = prob_given_parents(cpd, sample)\n",
        "    sample[n] = npr.choice(values, p=probs)\n",
        "  return sample\n",
        "\n",
        "\n",
        "def prob_given_parents(cpd, sample):\n",
        "  \"\"\"\n",
        "  Returns probability distribution of the node to which cpd corresponds, \n",
        "  conditioned on its parents' values in sample\n",
        "  \"\"\"\n",
        "  factors = cpd.variables\n",
        "  states = cpd.state_names \n",
        "\n",
        "  col = 0\n",
        "  skip = 1\n",
        "  for i in range(len(factors)-1):\n",
        "    parent_var = factors[-i-1]\n",
        "    parent_val = sample[parent_var]\n",
        "    ind = states[parent_var].index(parent_val)\n",
        "    col += ind*skip\n",
        "    skip *= len(states[parent_var])\n",
        "\n",
        "  return (cpd.get_values())[:,col]  "
      ],
      "execution_count": null,
      "outputs": []
    },
    {
      "cell_type": "markdown",
      "metadata": {
        "id": "xlCYKFE9sGsB"
      },
      "source": [
        "## Coding 1 (15 points)\n",
        "\n",
        "Prior sampling does not take into account evidence variables, so we can implement a rejection sampling function that uses ```prior_sample```, followed by a check for consistency with provided evidence. The function below takes in the problem ```model``` and list of ```nodes``` (to be passed into ```prior_sample```), a query variable, the number of samples to attempt, and a dictionary of evidence variables and values. The estimated distribution of the query variable (also a dictionary) and the number of consistent samples generated should then be returned."
      ]
    },
    {
      "cell_type": "code",
      "metadata": {
        "id": "v9xboynqNm9E"
      },
      "source": [
        "def rejection_sample(model, nodes, N, query, evidence={}):\n",
        "  \"\"\"\n",
        "  INPUTS: Problem model, nodes, total number of samples to try (including \n",
        "  inconsistent ones), query variable, and a {variable: value} evidence dict\n",
        "  OUTPUTS: dist, a dictionary providing the estimated distribution for query\n",
        "           num_consistent, number of consistent samples generated\n",
        "  \"\"\"\n",
        "  dist = {val:0 for val in model.get_cpds(query).state_names[query]}\n",
        "\n",
        "  # YOUR CODE HERE\n",
        "\n",
        "  num_samples = 0\n",
        "  for i in range(N):\n",
        "    sample = prior_sample(model, nodes) \n",
        "    valid = True\n",
        "    for node in evidence:\n",
        "      if node in sample and evidence[node] != sample[node]:\n",
        "        valid = False\n",
        "        break\n",
        "    if valid:\n",
        "      num_samples += 1\n",
        "      v = sample[query]\n",
        "      dist[v] += 1\n",
        "        \n",
        "  for k in dist:\n",
        "     dist[k] /= num_samples  \n",
        "  \n",
        "\n",
        "  return dist , num_samples\n"
      ],
      "execution_count": null,
      "outputs": []
    },
    {
      "cell_type": "code",
      "metadata": {
        "id": "A1lG2jFEypre",
        "colab": {
          "base_uri": "https://localhost:8080/"
        },
        "outputId": "70be1cb2-3198-4996-cbff-6f1d9074bac0"
      },
      "source": [
        "dist, num_samples = rejection_sample(child_model, NODES, 20000, 'XrayReport', evidence={'BirthAsphyxia':'yes'})\n",
        "print(\"XrayReport given BirthAsphyxia = yes: \", dist)\n",
        "print(\"Number of consistent samples: \", num_samples)"
      ],
      "execution_count": null,
      "outputs": [
        {
          "output_type": "stream",
          "text": [
            "XrayReport given BirthAsphyxia = yes:  {'Normal': 0.2621452621452621, 'Oligaemic': 0.29389129389129387, 'Plethoric': 0.18181818181818182, 'Grd_Glass': 0.08946608946608947, 'Asy/Patchy': 0.17267917267917268}\n",
            "Number of consistent samples:  2079\n"
          ],
          "name": "stdout"
        }
      ]
    },
    {
      "cell_type": "code",
      "metadata": {
        "colab": {
          "base_uri": "https://localhost:8080/"
        },
        "id": "r4Vl21hOMGu9",
        "outputId": "c20c1df7-bcc7-4f96-bf35-d2dab2fc1250"
      },
      "source": [
        "true_pr = {'Normal': 0.2507, 'Oligaemic': 0.2885, 'Plethoric': 0.2069, 'Grd_Glass': 0.0867, 'Asy/Patchy': 0.1672}\n",
        "diffs = {v: (true_pr[v]-dist.get(v, 0))/true_pr[v] for v in true_pr}\n",
        "print(\"Percentage difference: \", diffs)\n",
        "print(\"Avg percentage difference: \", sum(diffs.values())/5)"
      ],
      "execution_count": null,
      "outputs": [
        {
          "output_type": "stream",
          "text": [
            "Percentage difference:  {'Normal': -0.04565321956626306, 'Oligaemic': -0.018687327179528222, 'Plethoric': 0.12122676743266397, 'Grd_Glass': -0.03190414609099737, 'Asy/Patchy': -0.03277017152615248}\n",
            "Avg percentage difference:  -0.0015576193860554338\n"
          ],
          "name": "stdout"
        }
      ]
    },
    {
      "cell_type": "code",
      "metadata": {
        "colab": {
          "base_uri": "https://localhost:8080/"
        },
        "id": "ItyR3BJmD6ml",
        "outputId": "2336f69d-d638-45a0-c01e-3a3233d2a00f"
      },
      "source": [
        "dist, num_samples = rejection_sample(child_model, NODES, 1000, 'XrayReport', evidence={'BirthAsphyxia':'yes'})\n",
        "diffs = {v: (true_pr[v]-dist.get(v, 0))/true_pr[v] for v in true_pr}\n",
        "print(\"----- 1000 requested samples -----\")\n",
        "print(\"XrayReport given BirthAsphyxia = yes: \", dist)\n",
        "print(\"Number of consistent samples: \", num_samples)\n",
        "print(\"Percentage difference: \", diffs)\n",
        "print(\"Avg percentage difference: \", sum(diffs.values())/5)"
      ],
      "execution_count": null,
      "outputs": [
        {
          "output_type": "stream",
          "text": [
            "----- 1000 requested samples -----\n",
            "XrayReport given BirthAsphyxia = yes:  {'Normal': 0.22429906542056074, 'Oligaemic': 0.32710280373831774, 'Plethoric': 0.1308411214953271, 'Grd_Glass': 0.08411214953271028, 'Asy/Patchy': 0.2336448598130841}\n",
            "Number of consistent samples:  107\n",
            "Percentage difference:  {'Normal': 0.10530887347203524, 'Oligaemic': -0.13380521226453296, 'Plethoric': 0.36761178590948723, 'Grd_Glass': 0.029848332956052173, 'Asy/Patchy': -0.3973974869203596}\n",
            "Avg percentage difference:  -0.0056867413694635886\n"
          ],
          "name": "stdout"
        }
      ]
    },
    {
      "cell_type": "markdown",
      "metadata": {
        "id": "CRWjAsg13y3s"
      },
      "source": [
        "## Response 1 (10 points)\n",
        "\n",
        "Running the above cell will estimate the distribution of 'XrayReport' given 'BirthAsphyxia' = 'yes' by requesting 20000 samples. If you implemented rejection sampling correctly, the estimated distribution should be on average within about 5% of the true distribution: ```{'Normal': 0.2507, 'Oligaemic': 0.2885, 'Plethoric': 0.2069, 'GrdGlass': 0.0867, 'Asy/Patchy': 0.1672}```\n",
        "\n",
        "1.  How many samples were actually consistent with the evidence and usable? Which probability does the fraction of consistent samples correspond to?\n",
        "\n",
        "2.  What happens to the estimated distribution when we request fewer samples? Give an average percentage difference between the estimated and true distribution for 1000 requested samples (show the code output above)."
      ]
    },
    {
      "cell_type": "markdown",
      "metadata": {
        "id": "SNvg5RmsF5q6"
      },
      "source": [
        "ENTER YOUR RESPONSES HERE\n",
        "\n",
        "1. Only 2079 samples are actually consistent with the evidence and usable. This fraction is corresponding to the probability of a sample being consistent with 'BirthAsphyxia' = 'yes' among all the 20000 samples. In other words, it is $\\Pr(BirthAsphyxia = yes) = 0.1$.\n",
        "\n",
        "2. The usable samples are also much less, leading to a less accurate estimation. Avg percentage difference is 0.0057."
      ]
    },
    {
      "cell_type": "markdown",
      "metadata": {
        "id": "HLL6gpl7PjcX"
      },
      "source": [
        "## Coding 2 (15 points)\n",
        "\n",
        "Rejection sampling can end up rejecting a large number of samples, wasting effort. Another sampling method is likelihood weighting, which guarantees that every sample is consistent and associates with each a weight. In the cell below we've partially implemented ```weighted_sample```, which generates a sample consistent with ```evidence```, along with the corresponding weight for that sample.\n",
        "\n",
        "First complete ```weighted_sample``` to correctly update the weight ```w``` whenever an evidence variable is assigned to a sample.\n",
        "\n",
        "Then complete ```likelihood_weighting```, which should be very similar to ```rejection_sample``` but without the consistency check. It should compute and return a distribution for ```query``` based on the weights returned by ```weighted_sample```."
      ]
    },
    {
      "cell_type": "code",
      "metadata": {
        "id": "ZE70dPaO42K0"
      },
      "source": [
        "def weighted_sample(model, nodes, evidence):\n",
        "  \"\"\"\n",
        "  Generate a sample consistent with evidence, along with corresponding weight\n",
        "  \"\"\"\n",
        "  w = 1\n",
        "  sample = {}\n",
        "  for n in nodes:\n",
        "    cpd = model.get_cpds(n)\n",
        "    values = (cpd.state_names)[n]\n",
        "    if n in evidence:\n",
        "      # YOUR CODE HERE\n",
        "      sample[n] = evidence[n]      \n",
        "      probs = prob_given_parents(cpd, sample)      \n",
        "      i = values.index(sample[n])\n",
        "      w *= probs[i]\n",
        "\n",
        "    else:\n",
        "      probs = prob_given_parents(cpd, sample)\n",
        "      sample[n] = npr.choice(values, p=probs)\n",
        "  return sample, w\n",
        "\n",
        "\n",
        "def likelihood_weighting(model, nodes, N, query, evidence={}):\n",
        "  \"\"\"\n",
        "  INPUTS: Problem model, nodes, query variable, number of samples, \n",
        "          and a {variable: value} evidence dict\n",
        "  OUTPUT: dist, a dictionary providing the estimated distribution for query\n",
        "  \"\"\"\n",
        "  dist = {val:0 for val in model.get_cpds(query).state_names[query]}\n",
        "\n",
        "  # YOUR CODE HERE\n",
        "  for i in range(N):\n",
        "    sample, w = weighted_sample(model, nodes, evidence)\n",
        "    v = sample[query]\n",
        "    dist[v] += w\n",
        "  \n",
        "  total_w = sum(dist.values())\n",
        "  for k in dist:\n",
        "     dist[k] /= total_w  \n",
        "\n",
        "  return dist\n"
      ],
      "execution_count": null,
      "outputs": []
    },
    {
      "cell_type": "code",
      "metadata": {
        "id": "QDXQ70_wmrFT",
        "colab": {
          "base_uri": "https://localhost:8080/"
        },
        "outputId": "0d751dc6-a915-410a-d74b-f7ee1a739618"
      },
      "source": [
        "dist = likelihood_weighting(child_model, NODES, 380, 'XrayReport', evidence={'BirthAsphyxia':'yes'})\n",
        "print(\"XrayReport given BirthAsphyxia = yes: \", dist)\n",
        "\n",
        "# CHANGE THE NUMBER OF SAMPLES BELOW\n",
        "dist = likelihood_weighting(child_model, NODES, 380, 'Disease', evidence={'GruntingReport':'yes', 'LowerBodyO2':'<5', 'RUQO2':'<5', 'CO2Report':'<7.5', 'XrayReport':'Oligaemic'})\n",
        "print(\"Disease given reported evidence: \", dist)"
      ],
      "execution_count": null,
      "outputs": [
        {
          "output_type": "stream",
          "text": [
            "XrayReport given BirthAsphyxia = yes:  {'Normal': 0.2815789473684209, 'Oligaemic': 0.27368421052631564, 'Plethoric': 0.22105263157894733, 'Grd_Glass': 0.07894736842105278, 'Asy/Patchy': 0.14473684210526327}\n",
            "Disease given reported evidence:  {'PFC': 0.022259053069473365, 'TGA': 0.15520070450800122, 'Fallot': 0.3537779949853383, 'PAIVS': 0.4223624627559863, 'TAPVD': 0.005169303849767919, 'Lung': 0.04123048083143276}\n"
          ],
          "name": "stdout"
        }
      ]
    },
    {
      "cell_type": "code",
      "metadata": {
        "colab": {
          "base_uri": "https://localhost:8080/"
        },
        "id": "JvvSz36KJ-_n",
        "outputId": "25182b9b-4bea-47c8-e268-27b2f0e67afc"
      },
      "source": [
        "for n in range (300, 400, 10):\n",
        "  count = 0\n",
        "  for i in range(20):\n",
        "    dist = likelihood_weighting(child_model, NODES, n, 'XrayReport', evidence={'BirthAsphyxia':'yes'})\n",
        "    diffs = {v: (true_pr[v]-dist[v])/true_pr[v] for v in true_pr}\n",
        "    if abs(sum(diffs.values())/5) <= 0.05:\n",
        "      count += 1\n",
        "  print(n, count)"
      ],
      "execution_count": null,
      "outputs": [
        {
          "output_type": "stream",
          "text": [
            "300 18\n",
            "310 20\n",
            "320 19\n",
            "330 19\n",
            "340 20\n",
            "350 18\n",
            "360 19\n",
            "370 19\n",
            "380 20\n",
            "390 20\n"
          ],
          "name": "stdout"
        }
      ]
    },
    {
      "cell_type": "markdown",
      "metadata": {
        "id": "DeMZsH4qJX7y"
      },
      "source": [
        "## Response 2 (10 points)\n",
        "\n",
        "1.  To estimate the distribution of 'XrayReport' given 'BirthAsphyxia', we again request 20000 samples. However, you can try a smaller number of samples. What is the smallest number of samples to be sufficient for the estimate to be within 5% of the true distribution (show the code output above)? Comment on the efficiency of samples needed for likelihood weighting vs rejection sampling.\n",
        "\n",
        "2.  Likelihood weighting suffers when we have too many evidence variables or when the evidence specified is not common enough. For example, what happens when you query 'Disease' with ```evidence={'GruntingReport':'yes', 'LowerBodyO2':'<5', 'RUQO2':'<5', 'CO2Report':'<7.5', 'XrayReport':'Oligaemic'}``` using the same number of samples you found to be sufficient for the previous part? Explain your findings.\n",
        "\n",
        "For reference, the true conditional distribution of 'Disease' is ```{'PFC': 0.0426, 'TGA': 0.2099, 'Fallot': 0.3620, 'PAIVS': 0.3226, 'TAPVD': 0.0350, 'Lung': 0.0278}```.\n"
      ]
    },
    {
      "cell_type": "markdown",
      "metadata": {
        "id": "1rLDwMME_9W8"
      },
      "source": [
        "ENTER YOUR RESPONSES HERE\n",
        "\n",
        "1.  I have write a script to find the estimated lower bound. I found that if we choose 380 as the requested sample size, the resulted estimation can always be within 5% of the true distribution (I tried 20 times for each sample size and the outputs are shown above). Lkelihood weighting is more efficient than rejection sampling, since all the samples generated are usable, so we need much less samples.\n",
        "\n",
        "2.  The result becomes very inaccurate. The reason is that Likelihood weighting has a drawback: evidence only influences samples for downstream variables, but not upstream ones (in our case, we are not more likely to sample a good value\n",
        "for 'Disease' that matches the evidences, if the evidences are too specific to be common emough)."
      ]
    }
  ]
}